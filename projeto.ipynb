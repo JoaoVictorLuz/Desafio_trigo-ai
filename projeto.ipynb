{
 "cells": [
  {
   "cell_type": "markdown",
   "id": "8f4df774",
   "metadata": {},
   "source": [
    "### 1. Preparação dos Dados"
   ]
  },
  {
   "cell_type": "markdown",
   "id": "e3e55e90",
   "metadata": {},
   "source": [
    "#### a) Importando os arquivos CSV do dataset e as bibliotecas necessárias"
   ]
  },
  {
   "cell_type": "code",
   "execution_count": null,
   "id": "4a83422e",
   "metadata": {},
   "outputs": [],
   "source": [
    "import pandas as pd\n",
    "import numpy as np\n",
    "import seaborn as sns\n",
    "import os\n",
    "import matplotlib.pyplot as plt\n",
    "\n",
    "# Caminho para a pasta dos datasets\n",
    "dataset_path = \"dataset\"\n",
    "\n",
    "# Lista todos os arquivos CSV na pasta\n",
    "csv_files = [f for f in os.listdir(dataset_path) if f.endswith('.csv')]\n",
    "\n",
    "# Cria um dicionário para armazenar os dataframes\n",
    "dataframes = {}\n",
    "\n",
    "# Importa todos os arquivos CSV como dataframes\n",
    "for file in csv_files:\n",
    "    df_name = file.replace('.csv', '')\n",
    "    dataframes[df_name] = pd.read_csv(os.path.join(dataset_path, file))\n",
    "\n",
    "customers_df = dataframes['customers']\n",
    "order_items_df = dataframes['order_items']\n",
    "sellers_df = dataframes['sellers']\n",
    "products_df = dataframes['products']\n",
    "product_category_name_translation_df = dataframes['product_category_name_translation']\n",
    "order_payments_df = dataframes['order_payments']\n",
    "orders_df = dataframes['orders']\n",
    "order_reviews_df = dataframes['order_reviews']\n",
    "geolocation_df = dataframes['geolocation']"
   ]
  },
  {
   "cell_type": "markdown",
   "id": "8f2dad93",
   "metadata": {},
   "source": [
    "#### b) Realizando a limpeza necessária "
   ]
  },
  {
   "cell_type": "code",
   "execution_count": null,
   "id": "ddfc5a4d",
   "metadata": {},
   "outputs": [],
   "source": [
    "for name, df in dataframes.items():\n",
    "    print(f\"{name}:\")\n",
    "    print(df.isnull().sum())\n",
    "    print(\"-\" * 40)"
   ]
  },
  {
   "cell_type": "code",
   "execution_count": null,
   "id": "55bd5650",
   "metadata": {},
   "outputs": [],
   "source": [
    "for name, df in dataframes.items():\n",
    "    duplicates = df.duplicated().sum()\n",
    "    print(f\"{name}: {duplicates} duplicatas\")"
   ]
  },
  {
   "cell_type": "markdown",
   "id": "02dce7b9",
   "metadata": {},
   "source": [
    "- Podemos perceber que nenhuma das colunas relevantes para a análise possuem valores nulos, ao mesmo tempo que somente as linhas de \"geolocation\"  \n",
    "possuem duplicatas o que não é um problemas pois essa tabela contém as localizações dos vendedores e dos compradores que podem se repetir sem problemas  \n",
    "- Também destaca-se a qualidade desses dados visto que ainda não foi necessária nenhuma modificação nos datasets"
   ]
  },
  {
   "cell_type": "markdown",
   "id": "191656b6",
   "metadata": {},
   "source": [
    "#### c) Fazendo a normalização das colunas"
   ]
  },
  {
   "cell_type": "code",
   "execution_count": null,
   "id": "ec6ddee2",
   "metadata": {},
   "outputs": [],
   "source": [
    "order_items_df.describe()"
   ]
  },
  {
   "cell_type": "code",
   "execution_count": null,
   "id": "ac5ae348",
   "metadata": {},
   "outputs": [],
   "source": [
    "order_payments_df.describe()"
   ]
  },
  {
   "cell_type": "markdown",
   "id": "3f772df8",
   "metadata": {},
   "source": [
    "- Dado o contexto o problema, os atributos que podem ser problemáticos numericamente e que talvez precisem ser normalizados podem estar relacionados a precificação  \n",
    "mas analisando as estatísticas gerais das tabelas relacionadas a valores monetários vemos que existem outliers mas que condizem com o negócio"
   ]
  },
  {
   "cell_type": "markdown",
   "id": "a254f175",
   "metadata": {},
   "source": [
    "#### d) Criando um modelo relacional e conectando as tabelas adequadamente"
   ]
  },
  {
   "cell_type": "markdown",
   "id": "c3bece8a",
   "metadata": {},
   "source": [
    "- Como os problemas a serem resolvidos e as perguntas a serem respondidas diferem bastamtem optarei por realizar os JOINS \"sob demanda\", ou seja caso uma pergunta  \n",
    "necessite de mais de uma tabela a conexão será realizada na resolução da pergunta. Caso seja possível reutilizarei as conexões para evitar processamento descessário  \n",
    "  \n",
    "- Para facilitar o entendimento dos dados produzi um diagrama Entidade-Relacionamento que servirá de guia para o projeto disponível no link:  \n",
    "[diagrama](https://miro.com/app/board/uXjVI0LJsEA=/?share_link_id=70608596602)"
   ]
  },
  {
   "cell_type": "markdown",
   "id": "870ab5c2",
   "metadata": {},
   "source": [
    "![diagrama](diagrama.jpg)"
   ]
  },
  {
   "cell_type": "markdown",
   "id": "3747745d",
   "metadata": {},
   "source": [
    "### 2. Análise Exploratória de Dados "
   ]
  },
  {
   "cell_type": "markdown",
   "id": "ea8a6759",
   "metadata": {},
   "source": [
    "#### a) volume de pedidos por mês / sazonalidade nas vendas"
   ]
  },
  {
   "cell_type": "code",
   "execution_count": null,
   "id": "651731fb",
   "metadata": {},
   "outputs": [],
   "source": [
    "# Converter a coluna de data para datetime\n",
    "orders_df['order_purchase_timestamp'] = pd.to_datetime(orders_df['order_purchase_timestamp'])\n",
    "\n",
    "# Criar coluna com número do mês\n",
    "orders_df['mes'] = orders_df['order_purchase_timestamp'].dt.month\n",
    "\n",
    "# Contar número de pedidos por mês (ignorando o ano)\n",
    "total_por_mes = orders_df.groupby('mes').size().reset_index(name='num_pedidos')\n",
    "\n",
    "# Adicionar nome dos meses\n",
    "meses_nome = ['Janeiro', 'Fevereiro', 'Março', 'Abril', 'Maio', 'Junho', \n",
    "              'Julho', 'Agosto', 'Setembro', 'Outubro', 'Novembro', 'Dezembro']\n",
    "\n",
    "total_por_mes['mes_nome'] = total_por_mes['mes'].apply(lambda x: meses_nome[x-1])\n",
    "\n",
    "# Exibir resultado\n",
    "display(total_por_mes[['mes_nome', 'num_pedidos']])\n"
   ]
  },
  {
   "cell_type": "markdown",
   "id": "61cace74",
   "metadata": {},
   "source": [
    "- Podemos afirmar que sim, existe sazonalidade nas vendas, o segundo quadrimestre possui a maior quantidade de pedidos e o terceiro quadrimestre possui um desempenho muito abaixo dos outros"
   ]
  },
  {
   "cell_type": "markdown",
   "id": "02390bb5",
   "metadata": {},
   "source": [
    "#### b) distribuição do tempo de entrega dos pedidos"
   ]
  },
  {
   "cell_type": "markdown",
   "id": "261fc795",
   "metadata": {},
   "source": [
    "- Considerando o \"tempo de entrega\" o intervalo de dias entre a aprovação do pagamento e a chegada do produto"
   ]
  },
  {
   "cell_type": "code",
   "execution_count": null,
   "id": "311cb875",
   "metadata": {},
   "outputs": [],
   "source": [
    "# Converter as colunas para datetime, se ainda não estiverem\n",
    "orders_df['order_approved_at'] = pd.to_datetime(orders_df['order_approved_at'])\n",
    "orders_df['order_delivered_customer_date'] = pd.to_datetime(orders_df['order_delivered_customer_date'])\n",
    "\n",
    "# Calcular a diferença em dias\n",
    "orders_df['tempo_de_entrega'] = (orders_df['order_delivered_customer_date'] - orders_df['order_approved_at']).dt.days\n",
    "orders_df['tempo_de_entrega'] = orders_df['tempo_de_entrega'].fillna(0).astype(int)\n",
    "\n",
    "display((orders_df.groupby('tempo_de_entrega')\n",
    "                    .size().\n",
    "                    reset_index(name='num_pedidos'))\n",
    "                    .sort_values(by='num_pedidos', ascending=False)\n",
    "                    .head(25))\n",
    "\n",
    "media_tempo_entrega = (orders_df['tempo_de_entrega'].sum() / orders_df['tempo_de_entrega'].count())\n",
    "print(f\"Média de tempo de entrega (em dias): {media_tempo_entrega:.2f}\")"
   ]
  },
  {
   "cell_type": "markdown",
   "id": "be7f758f",
   "metadata": {},
   "source": [
    "- Temos que a maioria dos pedidos é entregue entre 5 a 20 dias com um número grande de entregas realizadas no mesmo dia, além disso temos em média  \n",
    "11 dias para que o produto seja entregue"
   ]
  },
  {
   "cell_type": "markdown",
   "id": "bfb7e1d7",
   "metadata": {},
   "source": [
    "#### c) relação entre o valor do frete e a distância de entrega"
   ]
  },
  {
   "cell_type": "markdown",
   "id": "20c3645a",
   "metadata": {},
   "source": [
    "- Para resolver essa pergunta utilizarei as tabelas \"orders\", \"customers\", \"order_items\" e \"sellers\" para obter respectivamente o \"order_id\", (\"customer_city\" e \"customer_state\"), \"freight_value\", (\"seller_city\" e \"seller_state\") e com esses dados poderei obter informações importantes sobre a distância de entrega"
   ]
  },
  {
   "cell_type": "code",
   "execution_count": null,
   "id": "14882187",
   "metadata": {},
   "outputs": [],
   "source": [
    "orders_customers = orders_df.merge(customers_df, on='customer_id', how='inner')[['order_id', 'customer_city', 'customer_state', 'customer_unique_id']]\n",
    "display(orders_customers.head())\n",
    "\n",
    "orders_customers_items = orders_customers.merge(order_items_df[['order_id', 'seller_id', 'freight_value']], on='order_id', how='inner')\n",
    "display(orders_customers_items.head())\n",
    "\n",
    "orders_customers_items_sellers = orders_customers_items.merge(\n",
    "    sellers_df[['seller_id', 'seller_city', 'seller_state']],\n",
    "    on='seller_id',\n",
    "    how='left'\n",
    ")\n",
    "\n",
    "orders_customers_items_sellers = orders_customers_items_sellers.drop(columns=['seller_id'])\n",
    "display(orders_customers_items_sellers.head())"
   ]
  },
  {
   "cell_type": "markdown",
   "id": "aa1f2553",
   "metadata": {},
   "source": [
    "- Dividirei os pedidos entre \"Mesma Cidade\", \"Mesmo Estado\", e \"Mesma Região\". Assim podemos ter uma visão mais geral das distâncias"
   ]
  },
  {
   "cell_type": "code",
   "execution_count": null,
   "id": "57c46c1d",
   "metadata": {
    "vscode": {
     "languageId": "javascript"
    }
   },
   "outputs": [],
   "source": [
    "orders_customers_items_sellers['same_city'] = np.where(\n",
    "    orders_customers_items_sellers['customer_city'].str.lower() == orders_customers_items_sellers['seller_city'].str.lower(),\n",
    "    'yes', 'no'\n",
    ")\n",
    "orders_customers_items_sellers['same_state'] = np.where(\n",
    "    orders_customers_items_sellers['customer_state'].str.lower() == orders_customers_items_sellers['seller_state'].str.lower(),\n",
    "    'yes', 'no'\n",
    ")\n",
    "\n",
    "estado_para_regiao = {\n",
    "    'AC': 'NO', 'AP': 'NO', 'AM': 'NO', 'PA': 'NO', 'RO': 'NO', 'RR': 'NO', 'TO': 'NO',\n",
    "    'AL': 'NE', 'BA': 'NE', 'CE': 'NE', 'MA': 'NE', 'PB': 'NE', 'PE': 'NE', 'PI': 'NE', 'RN': 'NE', 'SE': 'NE',\n",
    "    'DF': 'CO', 'GO': 'CO', 'MT': 'CO', 'MS': 'CO',\n",
    "    'ES': 'SE', 'MG': 'SE', 'RJ': 'SE', 'SP': 'SE',\n",
    "    'PR': 'SU', 'RS': 'SU', 'SC': 'SU'\n",
    "}\n",
    "\n",
    "orders_customers_items_sellers['customer_region'] = orders_customers_items_sellers['customer_state'].map(\n",
    "    estado_para_regiao\n",
    ").fillna('Outros')\n",
    "\n",
    "orders_customers_items_sellers['seller_region'] = orders_customers_items_sellers['seller_state'].map(\n",
    "    estado_para_regiao\n",
    ").fillna('Outros')\n",
    "\n",
    "orders_customers_items_sellers['same_region'] = np.where(\n",
    "    orders_customers_items_sellers['customer_region'] == orders_customers_items_sellers['seller_region'],\n",
    "    'yes', 'no'\n",
    ")\n",
    "\n",
    "orders_customers_items_sellers "
   ]
  },
  {
   "cell_type": "markdown",
   "id": "ae1a3a44",
   "metadata": {},
   "source": [
    "- Com todas essas informações finalmente podemos analisar o valor do frete "
   ]
  },
  {
   "cell_type": "code",
   "execution_count": null,
   "id": "820d551d",
   "metadata": {},
   "outputs": [],
   "source": [
    "# Cálculo das médias de frete por localização\n",
    "media_frete_mesma_cidade = orders_customers_items_sellers.loc[\n",
    "    orders_customers_items_sellers['same_city'] == 'yes', 'freight_value'\n",
    "].mean()\n",
    "\n",
    "media_frete_mesmo_estado = orders_customers_items_sellers.loc[\n",
    "    orders_customers_items_sellers['same_state'] == 'yes', 'freight_value'\n",
    "].mean()\n",
    "\n",
    "media_frete_mesma_regiao = orders_customers_items_sellers.loc[\n",
    "    orders_customers_items_sellers['same_region'] == 'yes', 'freight_value'\n",
    "].mean()\n",
    "\n",
    "media_frete_diferente_regiao = orders_customers_items_sellers.loc[\n",
    "    orders_customers_items_sellers['same_region'] == 'no', 'freight_value'\n",
    "].mean()\n",
    "\n",
    "# Exibição organizada dos resultados\n",
    "print(\"🏷️  Média do valor do frete por localização:\")\n",
    "print(\"-----------------------------------------------\")\n",
    "print(f\"🚚 Entregas na mesma cidade:        R$ {media_frete_mesma_cidade:.2f}\")\n",
    "print(f\"🚛 Entregas no mesmo estado:        R$ {media_frete_mesmo_estado:.2f}\")\n",
    "print(f\"🧭 Entregas na mesma região:        R$ {media_frete_mesma_regiao:.2f}\")\n",
    "print(f\"🗺️  Entregas em regiões diferentes: R$ {media_frete_diferente_regiao:.2f}\")\n"
   ]
  },
  {
   "cell_type": "markdown",
   "id": "9c2ea415",
   "metadata": {},
   "source": [
    "#### d) categorias de produtos mais vendidos em termos de faturamento"
   ]
  },
  {
   "cell_type": "markdown",
   "id": "0e540a88",
   "metadata": {},
   "source": [
    "Considerei os \"produtos mais vendidos em termos de faturamento\" como os \"produtos que geraram mais receita\". Para isso não utilizarei o \"payment_value\" pois contém incluso o valor do frete  \n",
    "uma opção mais \"limpa\" é o (\"price\" x \"order_item_id\") pois obtemos o valor real do pedido"
   ]
  },
  {
   "cell_type": "code",
   "execution_count": null,
   "id": "14408180",
   "metadata": {},
   "outputs": [],
   "source": [
    "order_items_products = order_items_df.merge(products_df[['product_id', 'product_category_name']], on='product_id', how='inner')[['order_id', 'product_category_name', 'price', 'order_item_id']]\n",
    "order_items_products['real_price'] = order_items_products['price'] * order_items_products['order_item_id']\n",
    "\n",
    "order_items_products_name_realprice = order_items_products.drop(columns=['price', 'order_item_id', 'order_id'])\n",
    "produtos_mais_vendidos = order_items_products_name_realprice.groupby(['product_category_name']).sum().reset_index()\n",
    "produtos_vendidos_ordenados = produtos_mais_vendidos.rename(columns={'real_price': 'total_revenue'}).sort_values(by=['total_revenue'], ascending=False)\n",
    "\n",
    "display(produtos_vendidos_ordenados.head(25))\n"
   ]
  },
  {
   "cell_type": "markdown",
   "id": "3255b236",
   "metadata": {},
   "source": [
    "- Temos então as categorias mostradas acima como aquelas que geram maior faturamento"
   ]
  },
  {
   "cell_type": "markdown",
   "id": "a3796684",
   "metadata": {},
   "source": [
    "#### e) estados brasileiros com o maior valor médio de pedido"
   ]
  },
  {
   "cell_type": "markdown",
   "id": "5055d808",
   "metadata": {},
   "source": [
    "- como \"valor de pedido\" é um termo mais abrangente desta vez podemos usar diretamente o \"payment value\"  \n",
    "- considerarei como \"estado do pedido \"o \"customer_state\", ou seja onde o pedido chegará\n",
    "- vou reutilizar o \"orders_customers\" do item c)"
   ]
  },
  {
   "cell_type": "code",
   "execution_count": null,
   "id": "350df844",
   "metadata": {},
   "outputs": [],
   "source": [
    "# orders_customers = orders_df.merge(customers_df, on='customer_id', how='inner')[['order_id', 'customer_city', 'customer_state']]\n",
    "\n",
    "orders_customers_no_city = orders_customers.drop(columns=['customer_city'])\n",
    "orders_customers_payments = orders_customers_no_city.merge(order_payments_df[['order_id', 'payment_value']], on='order_id', how='inner')\n",
    "orders_customers_payments = orders_customers_payments.drop(columns=['order_id'])\n",
    "orders_customers_payments = orders_customers_payments.drop(columns=['customer_unique_id'])\n",
    "valor_medio_por_estado = orders_customers_payments.groupby(['customer_state']).mean().reset_index()\n",
    "valor_medio_por_estado = valor_medio_por_estado.rename(columns={'payment_value': 'payment_mean'}).sort_values(by=['payment_mean'], ascending=False)\n",
    "valor_medio_por_estado['payment_mean'] = valor_medio_por_estado['payment_mean'].round(2)\n",
    "\n",
    "display(valor_medio_por_estado.head(25))"
   ]
  },
  {
   "cell_type": "markdown",
   "id": "d99f018f",
   "metadata": {},
   "source": [
    "- Temos então os estados gerados acima como aqueles com maior valor médio de pedido "
   ]
  },
  {
   "cell_type": "markdown",
   "id": "d6be1586",
   "metadata": {},
   "source": [
    "### 3. Solução de Problemas de Negócio "
   ]
  },
  {
   "cell_type": "markdown",
   "id": "11c238cc",
   "metadata": {},
   "source": [
    "#### a) **Análise de Retenção**\n"
   ]
  },
  {
   "cell_type": "markdown",
   "id": "bcb6110b",
   "metadata": {},
   "source": [
    "- Antes de realizar qualquer análise sobre os cliente recorrentes primeiro precisamos saber quantos são os clientes recorrentes "
   ]
  },
  {
   "cell_type": "code",
   "execution_count": null,
   "id": "70c8b2b1",
   "metadata": {},
   "outputs": [],
   "source": [
    "orders_customers.head(10)\n",
    "# Quantidade total de clientes únicos\n",
    "total_clientes_unicos = orders_customers['customer_unique_id'].nunique()\n",
    "print(f\"Total de customer_unique_id diferentes: {total_clientes_unicos}\")\n",
    "\n",
    "# Quantidade de clientes que aparecem apenas uma vez\n",
    "clientes_uma_vez = orders_customers['customer_unique_id'].value_counts()\n",
    "clientes_unicos_uma_vez = (clientes_uma_vez == 1).sum()\n",
    "print(f\"Quantidade de customer_unique_id que aparece apenas uma vez: {clientes_unicos_uma_vez}\")\n",
    "print(f\"Quantidade de clientes recorrentes: {total_clientes_unicos - clientes_unicos_uma_vez}\")\n",
    "print(f\"Proporção de clientes recorrentes: {(total_clientes_unicos - clientes_unicos_uma_vez) / total_clientes_unicos:.2%}\")\n"
   ]
  },
  {
   "cell_type": "markdown",
   "id": "cf3e5538",
   "metadata": {},
   "source": [
    "- Pela saída do código acima podemos ver que somente **3.12%** dos clientes são recorrentes, correspondendo a **2997** clientes. Essa taxa é muito baixa, demonstrando que  \n",
    "apenas uma pequena parte dos clientes volta a realizar compras  \n",
    "\n",
    "- Munidos dessas informações tentaremos responder a pergunta \"Quem são os clientes recorrentes\" ao obtermos os **estados** de onde eles vem e qual a **categoria de produto** que  \n",
    "eles mais compram "
   ]
  },
  {
   "cell_type": "code",
   "execution_count": null,
   "id": "10da5412",
   "metadata": {},
   "outputs": [],
   "source": [
    "orders_customers.head(10)\n",
    "clientes_recorrentes_ids = clientes_uma_vez[clientes_uma_vez > 1].index\n",
    "\n",
    "orders_customers_recorrentes = orders_customers[orders_customers['customer_unique_id'].isin(clientes_recorrentes_ids)]\n",
    "display(orders_customers_recorrentes.describe())\n",
    "\n",
    "orders_customers_recorrentes_items = orders_customers_recorrentes.merge(order_items_df[['order_id', 'product_id']], on='order_id', how='inner')\n",
    "orders_customers_recorrentes_items_products = orders_customers_recorrentes_items.merge(products_df[['product_id', 'product_category_name']], on='product_id', how='inner')\n",
    "clientes_recorrentes_clean = orders_customers_recorrentes_items_products.drop(columns=['customer_city', 'product_id'])\n",
    "clientes_recorrentes_clean.head()\n",
    "\n",
    "# Gráfico dos estados mais recorrentes entre clientes recorrentes\n",
    "plt.figure(figsize=(10, 5))\n",
    "clientes_recorrentes_clean['customer_state'].value_counts().head(15).plot(kind='bar', color='skyblue')\n",
    "plt.title('Top Estados dos Clientes Recorrentes')\n",
    "plt.xlabel('Estado')\n",
    "plt.ylabel('Quantidade de Pedidos')\n",
    "plt.xticks(rotation=45)\n",
    "plt.tight_layout()\n",
    "plt.show()\n",
    "\n",
    "# Gráfico das categorias de produto mais recorrentes entre clientes recorrentes\n",
    "plt.figure(figsize=(12, 5))\n",
    "clientes_recorrentes_clean['product_category_name'].value_counts().head(15).plot(kind='bar', color='orange')\n",
    "plt.title('Top Categorias de Produto dos Clientes Recorrentes')\n",
    "plt.xlabel('Categoria de Produto')\n",
    "plt.ylabel('Quantidade de Pedidos')\n",
    "plt.xticks(rotation=75)\n",
    "plt.tight_layout()\n",
    "plt.show()"
   ]
  },
  {
   "cell_type": "markdown",
   "id": "cdfd8150",
   "metadata": {},
   "source": [
    "- Com essas informações podemos tirar insights valiosos para aumentar a fidelização de clientes  \n",
    "\n",
    "- Poderia-se por exemplo investir mais no marketing de produtos de \"cama_mesa_banho\", \"moveis_decoracao\", \"esportes_lazer\" que lideram as recompras  \n",
    "\n",
    "- Também poderiamos aumentar o número de anúncios para clientes do sudeste (principalmente sao paulo) que possuem uma fidelização maior\n"
   ]
  },
  {
   "cell_type": "markdown",
   "id": "3c13ac0b",
   "metadata": {},
   "source": [
    "#### 2. **Predição de Atraso**"
   ]
  },
  {
   "cell_type": "markdown",
   "id": "e8c15052",
   "metadata": {},
   "source": [
    "- Será criada uma nova coluna denominada \"atraso\" que retornará 1 caso o produto esteja atrasado e 0 caso contrário. Para criar essa coluna comparei os  \n",
    "atributos \"order_delivered_customer_date\" e \"order_estimated_delivery_date\", caso a primeira passe da segunda temos um atraso. \n",
    "\n",
    "- Apesar de ser um problema de decisão binária não utilizarei a **regressão linear** pois os dados não seguem um padrão linear, por isso optarei pela **random forest**  \n",
    "devido ao seu caráter mais robusto em relação as relações complexas dos dados  \n",
    "\n",
    "- Para treinar o modelo utilizarei toda a tabela \"orders\", toda a tabela \"products\", os atributos 'seller_city' e 'seller_state' da tabela \"sellers\", os atributos  \n",
    "'customer_city' e 'customer_state' da tabela \"customers\", o 'review_score' da tabela \"order_reviews\", e o 'payment_value' da tabela \"order_payments\""
   ]
  },
  {
   "cell_type": "code",
   "execution_count": null,
   "id": "2bccf585",
   "metadata": {},
   "outputs": [],
   "source": [
    "from sklearn.preprocessing import LabelEncoder\n",
    "\n",
    "# Converter as colunas para datetime, se ainda não estiverem\n",
    "orders_df['order_estimated_delivery_date'] = pd.to_datetime(orders_df['order_estimated_delivery_date'])\n",
    "orders_df['order_delivered_carrier_date' ] = pd.to_datetime(orders_df['order_delivered_carrier_date'])\n",
    "\n",
    "# Criar a coluna \"atraso\"\n",
    "orders_df['atraso'] = (\n",
    "    (orders_df['order_delivered_customer_date'] > orders_df['order_estimated_delivery_date'])\n",
    "    & orders_df['order_delivered_customer_date'].notnull()\n",
    "    & orders_df['order_estimated_delivery_date'].notnull()\n",
    ").astype(int)\n",
    "\n",
    "orders_df.head(30)\n",
    "\n",
    "orders_items = orders_df.merge(order_items_df[['order_id','seller_id', 'product_id']], on='order_id', how='inner')\n",
    "orders_items_products = orders_items.merge(products_df, on='product_id', how='inner')\n",
    "orders_items_products_sellers = orders_items_products.merge(sellers_df[['seller_id', 'seller_city','seller_state']], on='seller_id', how='inner')\n",
    "orders_items_products_sellers_customers = orders_items_products_sellers.merge(customers_df[['customer_id','customer_unique_id', 'customer_city', 'customer_state']], on='customer_id', how='inner')\n",
    "orders_items_products_sellers_customers_reviews = orders_items_products_sellers_customers.merge(order_reviews_df[['order_id', 'review_score']], on='order_id', how='inner')\n",
    "\n",
    "\n",
    "le_seller_city = LabelEncoder()\n",
    "le_seller_state = LabelEncoder()\n",
    "le_customer_city = LabelEncoder()\n",
    "le_customer_state = LabelEncoder()\n",
    "\n",
    "orders_items_products_sellers_customers_reviews['seller_city_encoded'] = le_seller_city.fit_transform(\n",
    "    orders_items_products_sellers_customers_reviews['seller_city'].astype(str)\n",
    ")\n",
    "orders_items_products_sellers_customers_reviews['seller_state_encoded'] = le_seller_state.fit_transform(\n",
    "    orders_items_products_sellers_customers_reviews['seller_state'].astype(str)\n",
    ")\n",
    "orders_items_products_sellers_customers_reviews['customer_city_encoded'] = le_customer_city.fit_transform(\n",
    "    orders_items_products_sellers_customers_reviews['customer_city'].astype(str)\n",
    ")\n",
    "orders_items_products_sellers_customers_reviews['customer_state_encoded'] = le_customer_state.fit_transform(\n",
    "    orders_items_products_sellers_customers_reviews['customer_state'].astype(str)\n",
    ")\n",
    "\n",
    "orders_items_products_sellers_customers_reviews.head()\n",
    "\n",
    "orders_items_products_sellers_customers_reviews.dtypes"
   ]
  },
  {
   "cell_type": "code",
   "execution_count": null,
   "id": "5e4558ce",
   "metadata": {},
   "outputs": [],
   "source": [
    "from sklearn.model_selection import train_test_split\n",
    "from sklearn.ensemble import RandomForestClassifier\n",
    "from sklearn.metrics import classification_report, confusion_matrix, accuracy_score\n",
    "\n",
    "# Seleciona as colunas de features (removendo variáveis que não serão usadas diretamente)\n",
    "features = orders_items_products_sellers_customers_reviews.drop(columns=['atraso', 'order_id', 'customer_id', 'product_id', 'seller_id', 'customer_unique_id'])\n",
    "# Remove colunas que não são do tipo int, float ou bool\n",
    "features = features.select_dtypes(include=['int', 'float', 'bool'])\n",
    "\n",
    "# Variável alvo\n",
    "target = orders_items_products_sellers_customers_reviews['atraso']\n",
    "\n",
    "# Divisão em treino e teste (80% treino, 20% teste)\n",
    "X_train, X_test, y_train, y_test = train_test_split(features, target, test_size=0.2, random_state=42, stratify=target)\n",
    "\n",
    "features.dtypes"
   ]
  },
  {
   "cell_type": "code",
   "execution_count": null,
   "id": "2a0df32b",
   "metadata": {},
   "outputs": [],
   "source": [
    "from sklearn.metrics import classification_report, confusion_matrix, accuracy_score\n",
    "import seaborn as sns\n",
    "import matplotlib.pyplot as plt\n",
    "\n",
    "# Ajuste do modelo Random Forest\n",
    "rf = RandomForestClassifier(n_estimators=100, random_state=42, n_jobs=-1)\n",
    "rf.fit(X_train, y_train)\n",
    "\n",
    "# Previsão no conjunto de teste\n",
    "y_pred = rf.predict(X_test)\n",
    "\n",
    "# Avaliação do modelo\n",
    "print(\"Acurácia:\", accuracy_score(y_test, y_pred))\n"
   ]
  },
  {
   "cell_type": "code",
   "execution_count": null,
   "id": "aa1b2b03",
   "metadata": {},
   "outputs": [],
   "source": [
    "# Matriz de confusão visual\n",
    "cm = confusion_matrix(y_test, y_pred)\n",
    "plt.figure(figsize=(6, 5))\n",
    "sns.heatmap(cm, annot=True, fmt='d', cmap='Blues', xticklabels=rf.classes_, yticklabels=rf.classes_)\n",
    "plt.title('Matriz de Confusão')\n",
    "plt.xlabel('Previsto')\n",
    "plt.ylabel('Real')\n",
    "plt.tight_layout()\n",
    "plt.show()"
   ]
  },
  {
   "cell_type": "code",
   "execution_count": null,
   "id": "13edf800",
   "metadata": {},
   "outputs": [],
   "source": [
    "# Relatório de Classificação\n",
    "print(\"\\nRelatório de Classificação:\\n\", classification_report(y_test, y_pred))"
   ]
  },
  {
   "cell_type": "code",
   "execution_count": null,
   "id": "68473752",
   "metadata": {},
   "outputs": [],
   "source": [
    "# Análise dos resultados - Importância das variáveis\n",
    "importances = rf.feature_importances_\n",
    "feature_names = features.columns\n",
    "importances_df = pd.DataFrame({'feature': feature_names, 'importance': importances})\n",
    "importances_df = importances_df.sort_values(by='importance', ascending=False)\n",
    "\n",
    "plt.figure(figsize=(10, 6))\n",
    "sns.barplot(x='importance', y='feature', data=importances_df.head(10), palette='viridis')\n",
    "plt.title('Top 10 Features mais importantes para o modelo')\n",
    "plt.xlabel('Importância')\n",
    "plt.ylabel('Feature')\n",
    "plt.tight_layout()\n",
    "plt.show()"
   ]
  },
  {
   "cell_type": "markdown",
   "id": "a2849c68",
   "metadata": {},
   "source": [
    "- Tivemos uma ótima performace do modelo, e como esperado a variável **tempo_de_entrega** foi a mais importante para a decisão "
   ]
  },
  {
   "cell_type": "markdown",
   "id": "ab257abd",
   "metadata": {},
   "source": [
    "#### 3. **Segmentação de Clientes**"
   ]
  },
  {
   "cell_type": "markdown",
   "id": "108cbead",
   "metadata": {},
   "source": [
    "- Essa clusterização buscará avaliar comportamentos de compra, por isso dados relevantes para a clusterização: \"order_id\", \"categoria do produto\", \"payment_value\", \"recorrencia\"  \n",
    "\n",
    "- Reutilizarei o código em **1 Análise de Retenção** para criar uma coluna que determina se o cliente é fidelizado ou não"
   ]
  },
  {
   "cell_type": "code",
   "execution_count": null,
   "id": "64e6ea6a",
   "metadata": {},
   "outputs": [],
   "source": [
    "from sklearn.preprocessing import StandardScaler\n",
    "from sklearn.cluster import KMeans\n",
    "import pandas as pd\n",
    "import seaborn as sns\n",
    "\n",
    "#clientes_recorrentes_ids\n",
    "\n",
    "segmentacao_de_clientes = orders_items_products_sellers_customers[['order_id', 'product_category_name', 'customer_unique_id']]\n",
    "segmentacao_de_clientes = segmentacao_de_clientes.merge(order_payments_df[['order_id', 'payment_value']], on='order_id', how='inner')\n",
    "\n",
    "\n",
    "segmentacao_de_clientes['loyal_customer'] = segmentacao_de_clientes['customer_unique_id'].isin(clientes_recorrentes_ids).astype(int)\n",
    "segmentacao_de_clientes.head()\n",
    "segmentacao_de_clientes['loyal_customer'].value_counts()\n",
    "segmentacao_de_clientes = segmentacao_de_clientes.drop(columns=['order_id'])\n",
    "\n",
    "\n",
    "# Agrupa dados por cliente\n",
    "agg_clientes = segmentacao_de_clientes.groupby('customer_unique_id').agg({\n",
    "    'payment_value': 'mean',  # valor médio pago\n",
    "    'product_category_name': lambda x: x.mode()[0] if not x.mode().empty else 'unknown',  # categoria mais comprada\n",
    "    'loyal_customer': 'max'  # se é recorrente (0 ou 1)\n",
    "}).reset_index()\n",
    "\n",
    "# Transforma categoria em variáveis dummies\n",
    "agg_clientes_dummies = pd.get_dummies(agg_clientes, columns=['product_category_name'], drop_first=True)\n",
    "\n"
   ]
  },
  {
   "cell_type": "code",
   "execution_count": null,
   "id": "78df330e",
   "metadata": {},
   "outputs": [],
   "source": [
    "\n",
    "# Normaliza os dados (exceto customer_id)\n",
    "scaler = StandardScaler()\n",
    "X = scaler.fit_transform(agg_clientes_dummies.drop(columns=['customer_unique_id']))\n",
    "\n",
    "# Aplica KMeans\n",
    "kmeans = KMeans(n_clusters=4, random_state=42, n_init=10)\n",
    "agg_clientes_dummies['cluster'] = kmeans.fit_predict(X)\n",
    "\n",
    "# Junta o cluster de volta na segmentacao_de_clientes, se quiser\n",
    "segmentacao_de_clientes = segmentacao_de_clientes.merge(\n",
    "    agg_clientes_dummies[['customer_unique_id', 'cluster']],\n",
    "    on='customer_unique_id',\n",
    "    how='left'\n",
    ")\n",
    "\n",
    "# Visualiza a distribuição de clientes por cluster\n",
    "print(agg_clientes_dummies['cluster'].value_counts())\n"
   ]
  },
  {
   "cell_type": "code",
   "execution_count": null,
   "id": "95d47637",
   "metadata": {},
   "outputs": [],
   "source": [
    "\n",
    "import matplotlib.pyplot as plt\n",
    "\n",
    "# Visualização dos clusters em relação ao valor médio pago e fidelidade\n",
    "plt.figure(figsize=(10, 6))\n",
    "sns.boxplot(x='cluster', y='payment_value', data=segmentacao_de_clientes, showfliers=False)\n",
    "plt.title('Distribuição do Valor Médio Pago por Cluster')\n",
    "plt.xlabel('Cluster')\n",
    "plt.ylabel('Valor Médio Pago')\n",
    "plt.show()\n",
    "\n",
    "plt.figure(figsize=(8, 5))\n",
    "sns.countplot(x='cluster', hue='loyal_customer', data=segmentacao_de_clientes, palette='Set2')\n",
    "plt.title('Distribuição de Clientes Fidelizados por Cluster')\n",
    "plt.xlabel('Cluster')\n",
    "plt.ylabel('Quantidade de Pedidos')\n",
    "plt.legend(title='Fidelizado (1=Sim)')\n",
    "plt.show()\n",
    "\n",
    "# Análise dos clusters\n",
    "for cluster_id in sorted(segmentacao_de_clientes['cluster'].unique()):\n",
    "    grupo = segmentacao_de_clientes[segmentacao_de_clientes['cluster'] == cluster_id]\n",
    "    pct_fidelizados = grupo['loyal_customer'].mean() * 100\n",
    "    valor_medio = grupo['payment_value'].mean()\n",
    "    categoria_top = grupo['product_category_name'].mode()[0] if not grupo['product_category_name'].mode().empty else 'unknown'\n",
    "    print(f\"Cluster {cluster_id}:\")\n",
    "    print(f\"  - % Clientes Fidelizados: {pct_fidelizados:.1f}%\")\n",
    "    print(f\"  - Valor Médio Pago: R$ {valor_medio:.2f}\")\n",
    "    print(f\"  - Categoria Mais Comprada: {categoria_top}\")\n",
    "    # Estratégias de marketing sugeridas\n",
    "    if pct_fidelizados > 50 and valor_medio > segmentacao_de_clientes['payment_value'].mean():\n",
    "        print(\"  Estratégia: Investir em programas de fidelidade premium e ofertas exclusivas para manter e aumentar o ticket médio.\")\n",
    "    elif pct_fidelizados > 50:\n",
    "        print(\"  Estratégia: Oferecer recompensas por recorrência e descontos progressivos para estimular compras de maior valor.\")\n",
    "    elif valor_medio > segmentacao_de_clientes['payment_value'].mean():\n",
    "        print(\"  Estratégia: Focar em campanhas de upsell/cross-sell e benefícios para primeira recompra.\")\n",
    "    else:\n",
    "        print(\"  Estratégia: Campanhas de aquisição, cupons de boas-vindas e comunicação focada em benefícios do produto.\")\n",
    "    print(\"-\" * 60)\n",
    "\n"
   ]
  },
  {
   "cell_type": "markdown",
   "id": "105d5656",
   "metadata": {},
   "source": [
    "#### 4. **Análise de Satisfação**"
   ]
  },
  {
   "cell_type": "markdown",
   "id": "ebfff286",
   "metadata": {},
   "source": [
    "- Para resolver essa questão utilizarei a **correlação de pearson** entre os atributos escolhidos, no entanto nem todos os atributos são númericos(condicao necessária para aplicar a relação), por isso a coluna \"product_category_name\" será codificada para valores númericos.  \n",
    "\n",
    "- Vale ressaltar que este tipo de prática está longe de ser ideal, mas \"resolve\" o nosso problema"
   ]
  },
  {
   "cell_type": "code",
   "execution_count": null,
   "id": "2955f8b9",
   "metadata": {},
   "outputs": [],
   "source": [
    "from sklearn.preprocessing import LabelEncoder\n",
    "\n",
    "#nota de avaliação, categoria do produto, tempo de entrega, valor do pedido\n",
    "\n",
    "order_items_products_clean = order_items_products.drop(columns=['real_price', 'order_item_id'])\n",
    "items_products_orders = order_items_products_clean.merge(orders_df[['order_id', 'tempo_de_entrega']], on='order_id', how='inner')\n",
    "items_products_orders_reviews = items_products_orders.merge(order_reviews_df[['order_id', 'review_score']], on='order_id', how='inner')\n",
    "items_products_orders_reviews.head()\n",
    "\n",
    "le = LabelEncoder()\n",
    "items_products_orders_reviews['product_category_encoded'] = le.fit_transform(\n",
    "    items_products_orders_reviews['product_category_name'].astype(str)\n",
    ")\n",
    "\n",
    "items_products_orders_reviews = items_products_orders_reviews.drop(columns=['product_category_name', 'order_id'])\n",
    "\n",
    "# Calculando a correlação de Pearson\n",
    "correlacao = items_products_orders_reviews.corr(method='pearson')\n",
    "\n",
    "# Exibindo o heatmap\n",
    "plt.figure(figsize=(8, 6))\n",
    "sns.heatmap(correlacao, annot=True, cmap='coolwarm', fmt=\".2f\")\n",
    "plt.title('Heatmap de Correlação de Pearson')\n",
    "plt.show()\n",
    "\n"
   ]
  },
  {
   "cell_type": "markdown",
   "id": "5ba5123a",
   "metadata": {},
   "source": [
    "- Podemos perceber que **baixa** é a relação entre os atributos escolhidos e a satisfação do cliente, somente o tempo de entrega que possui uma correlação negativa  \n",
    "pequena sobre a satisfação, ou seja quanto menor o tempo de entrega maior a satisfação do cliente "
   ]
  },
  {
   "cell_type": "markdown",
   "id": "1058125e",
   "metadata": {},
   "source": [
    "### 4. Visualização e Dashboards"
   ]
  },
  {
   "cell_type": "markdown",
   "id": "65e09daf",
   "metadata": {},
   "source": [
    "#### 1. Evolução das vendas ao longo do tempo"
   ]
  },
  {
   "cell_type": "markdown",
   "id": "6895457c",
   "metadata": {},
   "source": [
    "- O estado de referência será o estado em que a venda foi efetuada, ou seja \"seller_state\""
   ]
  },
  {
   "cell_type": "code",
   "execution_count": null,
   "id": "5180dced",
   "metadata": {},
   "outputs": [],
   "source": [
    "\n",
    "import matplotlib.pyplot as plt\n",
    "import seaborn as sns\n",
    "\n",
    "# Agrupar por mês e contar número de vendas\n",
    "\n",
    "orders_items_products_sellers['mes_ano'] = orders_items_products_sellers['order_purchase_timestamp'].dt.to_period('M')\n",
    "vendas_por_mes = orders_items_products_sellers[['order_id', 'seller_id', 'order_purchase_timestamp', 'product_category_name', 'seller_state', 'tempo_de_entrega','mes_ano']].groupby('mes_ano').size().reset_index(name='num_vendas')\n",
    "vendas_por_mes['mes_ano'] = vendas_por_mes['mes_ano'].astype(str)\n",
    "\n",
    "# Plotar o gráfico\n",
    "plt.figure(figsize=(12, 5))\n",
    "sns.lineplot(data=vendas_por_mes, x='mes_ano', y='num_vendas', marker='o')\n",
    "plt.title('Evolução das Vendas ao Longo do Tempo')\n",
    "plt.xlabel('Mês/Ano')\n",
    "plt.ylabel('Número de Vendas')\n",
    "plt.xticks(rotation=45)\n",
    "plt.grid(True)\n",
    "plt.tight_layout()\n",
    "plt.show()\n"
   ]
  },
  {
   "cell_type": "markdown",
   "id": "b0e1154c",
   "metadata": {},
   "source": [
    "- infelizmente os widgets de filtro não estão funcionando mas o gráfico saiu de maneira correta"
   ]
  },
  {
   "cell_type": "markdown",
   "id": "0bd9241f",
   "metadata": {},
   "source": [
    "#### 2. Concentração de vendas por região/estado do Brasil"
   ]
  },
  {
   "cell_type": "code",
   "execution_count": null,
   "id": "614a0d5e",
   "metadata": {},
   "outputs": [],
   "source": [
    "import folium\n",
    "from folium.plugins import HeatMap\n",
    "\n",
    "\n",
    "orders_customers = orders_df[['order_id', 'customer_id']].merge(customers_df[['customer_id', 'customer_zip_code_prefix']], on='customer_id', how='inner')\n",
    "\n",
    "orders_customers_geolocation = orders_customers.merge(geolocation_df[['geolocation_zip_code_prefix', 'geolocation_lat', 'geolocation_lng']], \n",
    "                                                      left_on='customer_zip_code_prefix', right_on='geolocation_zip_code_prefix', how='inner')\n",
    "\n",
    "vendas_com_latitude_longitude = orders_customers_geolocation[['order_id', 'geolocation_lat', 'geolocation_lng']]\n",
    "\n",
    "display(vendas_com_latitude_longitude.head(30))\n",
    "\n",
    "# Amostra para evitar sobrecarga de memória (opcional)\n",
    "sample_size = 50000\n",
    "vendas_sample = vendas_com_latitude_longitude.sample(n=sample_size, random_state=42)\n",
    "\n",
    "# Criar o mapa centralizado no Brasil\n",
    "m = folium.Map(location=[-14.2350, -51.9253], zoom_start=4)\n",
    "\n",
    "# Adicionar o HeatMap\n",
    "HeatMap(\n",
    "    data=vendas_sample[['geolocation_lat', 'geolocation_lng']].values,\n",
    "    radius=8,\n",
    "    blur=10,\n",
    "    min_opacity=0.2,\n",
    "    max_zoom=1\n",
    ").add_to(m)\n",
    "\n",
    "m"
   ]
  },
  {
   "cell_type": "markdown",
   "id": "e38fc9e8",
   "metadata": {},
   "source": [
    "#### 3. Relação avaliação do cliente x tempo de entrega"
   ]
  },
  {
   "cell_type": "code",
   "execution_count": null,
   "id": "3e689878",
   "metadata": {},
   "outputs": [],
   "source": [
    "orders_reviews = orders_df[['order_id', 'tempo_de_entrega']].merge(\n",
    "    order_reviews_df[['order_id', 'review_score']], on='order_id', how='inner')\n",
    "\n",
    "orders_reviews.head(10)\n",
    "\n",
    "plt.figure(figsize=(12, 6))\n",
    "sns.boxplot(x='review_score', y='tempo_de_entrega', data=orders_reviews)\n",
    "plt.ylim(0, 100)\n",
    "plt.title('Tempo de Entrega por Nota de Avaliação (Review Score)')\n",
    "plt.xlabel('Nota de Avaliação (review_score)')\n",
    "plt.ylabel('Tempo de Entrega (dias)')\n",
    "plt.grid(True)\n",
    "plt.show()\n",
    "\n",
    "plt.figure(figsize=(12, 6))\n",
    "sns.violinplot(x='review_score', y='tempo_de_entrega', data=orders_reviews, inner='quartile')\n",
    "plt.ylim(0, 100)\n",
    "plt.title('Distribuição do Tempo de Entrega por Nota de Avaliação')\n",
    "plt.xlabel('Nota de Avaliação (review_score)')\n",
    "plt.ylabel('Tempo de Entrega (dias)')\n",
    "plt.grid(True)\n",
    "plt.show()\n",
    "\n",
    "plt.figure(figsize=(10, 6))\n",
    "sns.scatterplot(x='tempo_de_entrega', y='review_score', data=orders_reviews, alpha=0.1)\n",
    "plt.xlim(0, 100)\n",
    "plt.title('Dispersão: Tempo de Entrega vs Nota de Avaliação')\n",
    "plt.xlabel('Tempo de Entrega (dias)')\n",
    "plt.ylabel('Nota de Avaliação (review_score)')\n",
    "plt.grid(True)\n",
    "plt.show()\n"
   ]
  },
  {
   "cell_type": "markdown",
   "id": "5c18ac70",
   "metadata": {},
   "source": [
    "- É possível notar que pouca é a diferença entre o tempo de entrega para as notas 3, 4 e 5. No entanto, para as notas 1 e 2 podemos perceber um crescimento do tempo de entrega  \n",
    "\n",
    "- Principalmente a partir do gráfico de violino podemos perceber a relação entre as duas variáveis\n"
   ]
  },
  {
   "cell_type": "markdown",
   "id": "e3cab10e",
   "metadata": {},
   "source": [
    "#### 4. Dashboard de análise dos vendedores"
   ]
  },
  {
   "cell_type": "markdown",
   "id": "a1d53364",
   "metadata": {},
   "source": [
    "- Como temos 3090 vendedores distintos (ao realizarmos o merge das tabelas) vamos diminuir os escopo da nossa análise para os 50 \"maiores\" vendedores que são os 50  \n",
    "com a maior quantidade de pedidos. Isso será feito por conta da relevância desses vendedores no dataset.  \n",
    "\n",
    "\n",
    "- Poderiamos mostrar os top 50 vendedores considerando somente as \"melhores avaliações\" no entanto isso favoreceria vendedores com poucas vendas ou seja teriamos as \"melhores avliações\" de vendedores que venderam 1 a 5 produtos que é um volume irrelevante para o dataset. O mesmo vale para o tempo de entrega.\n",
    "\n",
    "- Infelizmente não temos o nome dos vendedores o que torna os gráficos \"poluídos\". Poderiamos atribuir um \"apelido\" a cada vendedor ganhariamos legibilidade em detrimento da informação de quem são de fato os top 50 "
   ]
  },
  {
   "cell_type": "code",
   "execution_count": null,
   "id": "ab359adb",
   "metadata": {},
   "outputs": [],
   "source": [
    "# volume de vendas, satisfação do cliente e tempo de entrega\n",
    "analise_dos_vendedores = orders_items_products_sellers[['order_id', 'seller_id', 'tempo_de_entrega' ]]\n",
    "analise_dos_vendedores = analise_dos_vendedores.merge(order_reviews_df[['order_id', 'review_score']], on='order_id', how='inner')\n",
    "\n",
    "# Quantidade de vendedores distintos\n",
    "num_sellers = analise_dos_vendedores['seller_id'].nunique()\n",
    "print(f\"Número de seller_id distintos: {num_sellers}\")\n",
    "\n",
    "top_25 = analise_dos_vendedores['seller_id'].value_counts().head(25)\n",
    "plt.figure(figsize=(14, 6))\n",
    "sns.barplot(x=top_25.index, y=top_25.values, palette='viridis')\n",
    "plt.title('Top 25 Vendedores com Mais Vendas')\n",
    "plt.xlabel('seller_id')\n",
    "plt.ylabel('Quantidade de Vendas')\n",
    "plt.xticks(rotation=90)\n",
    "plt.tight_layout()\n",
    "plt.show()\n",
    "\n",
    "# Calcular a média das reviews para os top 25 vendedores\n",
    "media_reviews_top_25 = (\n",
    "    analise_dos_vendedores[analise_dos_vendedores['seller_id'].isin(top_25.index)]\n",
    "    .groupby('seller_id')['review_score']\n",
    "    .mean()\n",
    "    .loc[top_25.index]  # mantém a ordem dos top_25\n",
    ")\n",
    "\n",
    "# Ordenar em ordem decrescente de média das avaliações\n",
    "media_reviews_top_25_sorted = media_reviews_top_25.sort_values(ascending=False)\n",
    "\n",
    "plt.figure(figsize=(14, 6))\n",
    "sns.barplot(x=media_reviews_top_25_sorted.index, y=media_reviews_top_25_sorted.values, palette='coolwarm')\n",
    "plt.title('Top 25 Vendedores - Média das Avaliações dos Clientes (Ordem Decrescente)')\n",
    "plt.xlabel('seller_id')\n",
    "plt.ylabel('Média das Avaliações (review_score)')\n",
    "plt.xticks(rotation=90)\n",
    "plt.tight_layout()\n",
    "plt.show()\n",
    "\n",
    "# Calcular a média do tempo de entrega para os top 25 vendedores\n",
    "media_tempo_entrega_top_25 = (\n",
    "    analise_dos_vendedores[analise_dos_vendedores['seller_id'].isin(top_25.index)]\n",
    "    .groupby('seller_id')['tempo_de_entrega']\n",
    "    .mean()\n",
    "    .loc[top_25.index]  # mantém a ordem dos top_25\n",
    ")\n",
    "# Ordenar em ordem crescente de média do tempo de entrega\n",
    "media_tempo_entrega_top_25_sorted = media_tempo_entrega_top_25.sort_values(ascending=True)\n",
    "plt.figure(figsize=(14, 6))\n",
    "sns.barplot(x=media_tempo_entrega_top_25_sorted.index, y=media_tempo_entrega_top_25_sorted.values, palette='magma')\n",
    "plt.title('Top 25 Vendedores - Média do Tempo de Entrega (Ordem Crescente)')\n",
    "plt.xlabel('seller_id')\n",
    "plt.ylabel('Média do Tempo de Entrega (dias)')\n",
    "plt.xticks(rotation=90)\n",
    "plt.tight_layout()\n",
    "plt.show()\n",
    "\n"
   ]
  }
 ],
 "metadata": {
  "kernelspec": {
   "display_name": "base",
   "language": "python",
   "name": "python3"
  },
  "language_info": {
   "codemirror_mode": {
    "name": "ipython",
    "version": 3
   },
   "file_extension": ".py",
   "mimetype": "text/x-python",
   "name": "python",
   "nbconvert_exporter": "python",
   "pygments_lexer": "ipython3",
   "version": "3.12.7"
  }
 },
 "nbformat": 4,
 "nbformat_minor": 5
}
